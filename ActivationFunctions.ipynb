{
 "cells": [
  {
   "cell_type": "code",
   "execution_count": 1,
   "id": "56adba56",
   "metadata": {},
   "outputs": [],
   "source": [
    "def binary_step(x):\n",
    "    if x < 0:\n",
    "        return 0\n",
    "    else:\n",
    "        return 1"
   ]
  },
  {
   "cell_type": "code",
   "execution_count": 2,
   "id": "f1d9e704",
   "metadata": {},
   "outputs": [
    {
     "data": {
      "text/plain": [
       "1"
      ]
     },
     "execution_count": 2,
     "metadata": {},
     "output_type": "execute_result"
    }
   ],
   "source": [
    "binary_step(10)"
   ]
  },
  {
   "cell_type": "code",
   "execution_count": 3,
   "id": "c4a8c02e",
   "metadata": {},
   "outputs": [
    {
     "data": {
      "text/plain": [
       "0"
      ]
     },
     "execution_count": 3,
     "metadata": {},
     "output_type": "execute_result"
    }
   ],
   "source": [
    "binary_step(-1)"
   ]
  },
  {
   "cell_type": "code",
   "execution_count": 4,
   "id": "db8e63e8",
   "metadata": {},
   "outputs": [],
   "source": [
    "def linear_function(x):\n",
    "    return 4 * x"
   ]
  },
  {
   "cell_type": "code",
   "execution_count": 5,
   "id": "c86782f8",
   "metadata": {},
   "outputs": [
    {
     "data": {
      "text/plain": [
       "20"
      ]
     },
     "execution_count": 5,
     "metadata": {},
     "output_type": "execute_result"
    }
   ],
   "source": [
    "linear_function(5)"
   ]
  },
  {
   "cell_type": "code",
   "execution_count": 6,
   "id": "5c1b7e4f",
   "metadata": {},
   "outputs": [],
   "source": [
    "import numpy as np\n",
    "\n",
    "def sigmoid(x):\n",
    "    return 1 / (1 + np.exp(-x))"
   ]
  },
  {
   "cell_type": "code",
   "execution_count": 7,
   "id": "8586da98",
   "metadata": {},
   "outputs": [
    {
     "data": {
      "text/plain": [
       "0.9999546021312976"
      ]
     },
     "execution_count": 7,
     "metadata": {},
     "output_type": "execute_result"
    }
   ],
   "source": [
    "sigmoid(10)"
   ]
  },
  {
   "cell_type": "code",
   "execution_count": 8,
   "id": "242beaf0",
   "metadata": {},
   "outputs": [],
   "source": [
    "def tanh(x):\n",
    "    z = (2 / (1 + np.exp(-2 * x))) - 1\n",
    "    return z"
   ]
  },
  {
   "cell_type": "code",
   "execution_count": 9,
   "id": "ad93ddf9",
   "metadata": {},
   "outputs": [
    {
     "data": {
      "text/plain": [
       "0.7615941559557646"
      ]
     },
     "execution_count": 9,
     "metadata": {},
     "output_type": "execute_result"
    }
   ],
   "source": [
    "tanh(1)"
   ]
  },
  {
   "cell_type": "code",
   "execution_count": 10,
   "id": "ee8f00fa",
   "metadata": {},
   "outputs": [],
   "source": [
    "def relu(x):\n",
    "    if x < 0:\n",
    "        return 0\n",
    "    else:\n",
    "        return x"
   ]
  },
  {
   "cell_type": "code",
   "execution_count": 11,
   "id": "a8bd0f38",
   "metadata": {},
   "outputs": [
    {
     "data": {
      "text/plain": [
       "10"
      ]
     },
     "execution_count": 11,
     "metadata": {},
     "output_type": "execute_result"
    }
   ],
   "source": [
    "relu(10)"
   ]
  },
  {
   "cell_type": "code",
   "execution_count": 12,
   "id": "91a81d77",
   "metadata": {},
   "outputs": [
    {
     "data": {
      "text/plain": [
       "0"
      ]
     },
     "execution_count": 12,
     "metadata": {},
     "output_type": "execute_result"
    }
   ],
   "source": [
    "relu(-0.4)"
   ]
  },
  {
   "cell_type": "code",
   "execution_count": 13,
   "id": "d9962d72",
   "metadata": {},
   "outputs": [],
   "source": [
    "def leaky_relu(x):\n",
    "    if x < 0:\n",
    "        return 0.01 * x\n",
    "    else:\n",
    "        return x"
   ]
  },
  {
   "cell_type": "code",
   "execution_count": 14,
   "id": "8f261c6d",
   "metadata": {},
   "outputs": [
    {
     "data": {
      "text/plain": [
       "(10, -0.05)"
      ]
     },
     "execution_count": 14,
     "metadata": {},
     "output_type": "execute_result"
    }
   ],
   "source": [
    "leaky_relu(10), leaky_relu(-5)"
   ]
  },
  {
   "cell_type": "code",
   "execution_count": 15,
   "id": "1fea6b55",
   "metadata": {},
   "outputs": [],
   "source": [
    "def elu(x,a):\n",
    "    if x < 0:\n",
    "        return a * (np.exp(x) - 1)\n",
    "    else:\n",
    "        return x"
   ]
  },
  {
   "cell_type": "code",
   "execution_count": 16,
   "id": "cfa22e55",
   "metadata": {},
   "outputs": [
    {
     "data": {
      "text/plain": [
       "(5, -0.09502129316321362)"
      ]
     },
     "execution_count": 16,
     "metadata": {},
     "output_type": "execute_result"
    }
   ],
   "source": [
    "elu(5,0.1), elu(-3, 0.1)"
   ]
  },
  {
   "cell_type": "code",
   "execution_count": 17,
   "id": "3620de8a",
   "metadata": {},
   "outputs": [],
   "source": [
    "def swish(x):\n",
    "    return x / (1 + np.exp(-x))"
   ]
  },
  {
   "cell_type": "code",
   "execution_count": 18,
   "id": "d9140554",
   "metadata": {},
   "outputs": [
    {
     "data": {
      "text/plain": [
       "(-1.6993417021166355e-16, 5.985164261060192)"
      ]
     },
     "execution_count": 18,
     "metadata": {},
     "output_type": "execute_result"
    }
   ],
   "source": [
    "swish(-40), swish(6)"
   ]
  },
  {
   "cell_type": "code",
   "execution_count": 19,
   "id": "7755633d",
   "metadata": {},
   "outputs": [],
   "source": [
    "def softmax(x):\n",
    "    exp = np.exp(x)\n",
    "    probs = exp / exp.sum()\n",
    "    return probs"
   ]
  },
  {
   "cell_type": "code",
   "execution_count": 20,
   "id": "8ca2ad10",
   "metadata": {},
   "outputs": [
    {
     "data": {
      "text/plain": [
       "array([0.24210857, 0.53882253, 0.21906889])"
      ]
     },
     "execution_count": 20,
     "metadata": {},
     "output_type": "execute_result"
    }
   ],
   "source": [
    "softmax([0.5,1.3,0.4])"
   ]
  },
  {
   "cell_type": "code",
   "execution_count": null,
   "id": "8a6d99ae",
   "metadata": {},
   "outputs": [],
   "source": []
  }
 ],
 "metadata": {
  "kernelspec": {
   "display_name": "Python 3 (ipykernel)",
   "language": "python",
   "name": "python3"
  },
  "language_info": {
   "codemirror_mode": {
    "name": "ipython",
    "version": 3
   },
   "file_extension": ".py",
   "mimetype": "text/x-python",
   "name": "python",
   "nbconvert_exporter": "python",
   "pygments_lexer": "ipython3",
   "version": "3.9.7"
  }
 },
 "nbformat": 4,
 "nbformat_minor": 5
}
